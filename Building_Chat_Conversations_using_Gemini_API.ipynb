{
  "nbformat": 4,
  "nbformat_minor": 0,
  "metadata": {
    "colab": {
      "provenance": []
    },
    "kernelspec": {
      "name": "python3",
      "display_name": "Python 3"
    },
    "language_info": {
      "name": "python"
    }
  },
  "cells": [
    {
      "cell_type": "markdown",
      "source": [
        "#Building Chat Conversations using Gemini API"
      ],
      "metadata": {
        "id": "7SJRG8Qar-y2"
      }
    },
    {
      "cell_type": "code",
      "source": [
        "pip install python-dotenv  # installing python-dotenv used for loading the Gemini API key from .env"
      ],
      "metadata": {
        "colab": {
          "base_uri": "https://localhost:8080/"
        },
        "id": "FTRpGyvP4nna",
        "outputId": "7167342b-79b7-4fba-b1d5-388491dba466"
      },
      "execution_count": null,
      "outputs": [
        {
          "output_type": "stream",
          "name": "stdout",
          "text": [
            "Collecting python-dotenv\n",
            "  Downloading python_dotenv-1.0.1-py3-none-any.whl (19 kB)\n",
            "Installing collected packages: python-dotenv\n",
            "Successfully installed python-dotenv-1.0.1\n"
          ]
        }
      ]
    },
    {
      "cell_type": "code",
      "source": [
        "# importing the libraries.\n",
        "import google.generativeai as genai\n",
        "import os\n",
        "from dotenv import load_dotenv, find_dotenv\n",
        "import getpass\n",
        "\n",
        "os.environ[\"GOOGLE_API_KEY\"] = getpass.getpass(\"Paste your Google API key here and hit enter:\")   #user input\n",
        "\n",
        "\n",
        "# loading the API key from .env and authenticating to Gemini.\n",
        "load_dotenv(find_dotenv(), override=True)\n",
        "os.environ.get('GOOGLE_API_KEY')\n",
        "\n",
        "# configuring the API key.\n",
        "genai.configure(api_key=os.environ.get('GOOGLE_API_KEY'))"
      ],
      "metadata": {
        "colab": {
          "base_uri": "https://localhost:8080/"
        },
        "id": "uncEifwasA24",
        "outputId": "526d757c-2a8e-467a-aa4b-8d3f657d446a"
      },
      "execution_count": null,
      "outputs": [
        {
          "name": "stdout",
          "output_type": "stream",
          "text": [
            "Paste your Google API key here and hit enter:··········\n"
          ]
        }
      ]
    },
    {
      "cell_type": "code",
      "source": [
        "model = genai.GenerativeModel('gemini-pro')\n",
        "\n",
        "# creating a ChatSession object\n",
        "# use the model.start_chat() method instead of model.generate_content() to start a multi-turn conversation\n",
        "chat = model.start_chat(history=[])\n",
        "chat"
      ],
      "metadata": {
        "colab": {
          "base_uri": "https://localhost:8080/"
        },
        "id": "k2Sm0tBW4ipJ",
        "outputId": "e6f70fad-6603-4c77-9632-7e79ccd0a6c0"
      },
      "execution_count": null,
      "outputs": [
        {
          "output_type": "execute_result",
          "data": {
            "text/plain": [
              "<google.generativeai.generative_models.ChatSession at 0x783fbe71dae0>"
            ]
          },
          "metadata": {},
          "execution_count": 17
        }
      ]
    },
    {
      "cell_type": "markdown",
      "source": [
        "\n",
        "#Explanation:\n",
        "In the context of AI models, a multi-turn conversation is a type of interaction where the model and user engage in a back-and-forth dialogue, spanning multiple exchanges of information. This contrasts with single-turn interactions where the model generates a response based only on the current prompt without considering any previous context.\n",
        "\n",
        "Here's how the code snippet you provided helps achieve multi-turn conversations:\n",
        "\n",
        "1. Creating a ChatSession object:\n",
        "\n",
        "* The line chat = `model.start_chat(history=[])` creates a new ChatSession object.\n",
        "* This object acts as a container for managing the conversation's state, including the history of previous messages and the model's current understanding of the context.\n",
        "* The `history=[]` argument indicates that the conversation is starting fresh without any prior context.\n",
        "\n",
        "2. Using `model.start_chat()` instead of `model.generate_content()`:\n",
        "\n",
        "* The `model.start_chat()` method specifically initiates a multi-turn conversation mode.\n",
        "* It differs from `model.generate_content()`, which is typically used for single-turn responses based on a single prompt.\n",
        "\n",
        "__Key features of multi-turn conversations with `ChatSession`:__\n",
        "\n",
        "* __Persistent context:__ The model maintains a memory of previous exchanges within the ChatSession, allowing it to reference past information and build context over multiple turns.\n",
        "* __Dynamic responses:__ The model's responses can evolve as the conversation progresses, adapting to new information, questions, or requests from the user.\n",
        "* __Natural flow:__ The conversation can feel more natural and engaging, resembling a human-to-human dialogue rather than a series of disconnected responses."
      ],
      "metadata": {
        "id": "FEg2sOPj5QY5"
      }
    },
    {
      "cell_type": "code",
      "source": [
        "response = chat.send_message('In one paragraph, give me tips on becoming an AI developer.')     #user sends a message"
      ],
      "metadata": {
        "id": "rhbIGFau5Ic-"
      },
      "execution_count": null,
      "outputs": []
    },
    {
      "cell_type": "code",
      "source": [
        "# from google.generativeai import ChatSession"
      ],
      "metadata": {
        "id": "0OqA4mzN7qdR"
      },
      "execution_count": null,
      "outputs": []
    },
    {
      "cell_type": "code",
      "source": [
        "# chat = ChatSession(model=\"gemini-pro\")"
      ],
      "metadata": {
        "id": "VQW56e3c7vab"
      },
      "execution_count": null,
      "outputs": []
    },
    {
      "cell_type": "code",
      "source": [
        "# print(response.text)"
      ],
      "metadata": {
        "colab": {
          "base_uri": "https://localhost:8080/"
        },
        "id": "1ZE_nLlP8Ju6",
        "outputId": "6056e1e2-6b0f-47fd-8d58-8e4275368f3f"
      },
      "execution_count": null,
      "outputs": [
        {
          "output_type": "stream",
          "name": "stdout",
          "text": [
            "To become an AI developer, start by building a solid foundation in computer science fundamentals, including data structures, algorithms, and software engineering. Enhance your mathematical skills, particularly in statistics and linear algebra, as they form the backbone of AI. Begin with supervised and unsupervised machine learning algorithms. Practice implementing and tuning models using frameworks like TensorFlow or PyTorch. Develop proficiency in cloud computing platforms such as AWS or Azure, which provide infrastructure for training and deploying AI models. Stay abreast of the latest advancements in AI research and advancements. Explore open-source projects and contribute to the AI community. By consistently applying knowledge, seeking mentorship, and engaging in real-world projects, you will accelerate your journey towards becoming an AI developer.\n"
          ]
        }
      ]
    },
    {
      "cell_type": "code",
      "source": [
        "# displaying the entire chat history\n",
        "chat.history"
      ],
      "metadata": {
        "colab": {
          "base_uri": "https://localhost:8080/"
        },
        "id": "jlvOT8re5daf",
        "outputId": "e4fe7058-f3f2-44d8-83df-b166a4ea3307"
      },
      "execution_count": null,
      "outputs": [
        {
          "output_type": "execute_result",
          "data": {
            "text/plain": [
              "[]"
            ]
          },
          "metadata": {},
          "execution_count": 13
        }
      ]
    },
    {
      "cell_type": "code",
      "source": [
        "# displaying the first user's question\n",
        "chat.history[0]"
      ],
      "metadata": {
        "colab": {
          "base_uri": "https://localhost:8080/"
        },
        "id": "3n4jY_dG60Oi",
        "outputId": "5ac10377-acf6-4bdd-e078-37d0df0c93c1"
      },
      "execution_count": null,
      "outputs": [
        {
          "output_type": "execute_result",
          "data": {
            "text/plain": [
              "parts {\n",
              "  text: \"In one paragraph, give me tips on becoming an AI developer.\"\n",
              "}\n",
              "role: \"user\""
            ]
          },
          "metadata": {},
          "execution_count": 19
        }
      ]
    },
    {
      "cell_type": "code",
      "source": [
        "# displaying the model's response\n",
        "chat.history[1]"
      ],
      "metadata": {
        "id": "T9JacAnG60LR",
        "colab": {
          "base_uri": "https://localhost:8080/"
        },
        "outputId": "eacb8c30-1c94-4525-bc0a-85154cf141d9"
      },
      "execution_count": null,
      "outputs": [
        {
          "output_type": "execute_result",
          "data": {
            "text/plain": [
              "parts {\n",
              "  text: \"Bring a large pot of salted water to a boil. Add the noodles and cook according to package directions. Stir occasionally to prevent the noodles from sticking together. Once the noodles are al dente, drain them in a colander and rinse with cold water. Toss the noodles with a little oil to prevent them from sticking together.\"\n",
              "}\n",
              "role: \"model\""
            ]
          },
          "metadata": {},
          "execution_count": 6
        }
      ]
    },
    {
      "cell_type": "code",
      "source": [
        "chat.history[1].parts[0].text"
      ],
      "metadata": {
        "id": "6U__EMxm60Cz",
        "colab": {
          "base_uri": "https://localhost:8080/",
          "height": 53
        },
        "outputId": "b77147f8-5728-4390-d0ff-816c454147c2"
      },
      "execution_count": null,
      "outputs": [
        {
          "output_type": "execute_result",
          "data": {
            "text/plain": [
              "'Bring a large pot of salted water to a boil. Add the noodles and cook according to package directions. Stir occasionally to prevent the noodles from sticking together. Once the noodles are al dente, drain them in a colander and rinse with cold water. Toss the noodles with a little oil to prevent them from sticking together.'"
            ],
            "application/vnd.google.colaboratory.intrinsic+json": {
              "type": "string"
            }
          },
          "metadata": {},
          "execution_count": 7
        }
      ]
    },
    {
      "cell_type": "markdown",
      "source": [
        "#__Explanation:__\n",
        "* Accessing chat history: `chat.history` is assumed to be a list containing chat messages.\n",
        "* Indexing starts from 0, so `[1]` accesses the second item (message) in the chat history.\n",
        "* Then, we access the parts of the second message using .parts.\n",
        "* Since `parts` is assumed to be a list, `[0]` accesses the first part of the message.\n",
        "* Finally, `.text` retrieves the text content of the first part of the second message.\n",
        "chat.history[1].parts[0].text\n"
      ],
      "metadata": {
        "id": "Bk6kukfKh43Y"
      }
    },
    {
      "cell_type": "code",
      "source": [
        "# sending another prompt for the same conversation\n",
        "response = chat.send_message('Okay, how about a more detailed explanation about how to scale a million dollar tech buisness')"
      ],
      "metadata": {
        "id": "bGY36Yjl6z_i"
      },
      "execution_count": null,
      "outputs": []
    },
    {
      "cell_type": "code",
      "source": [
        "chat.history\n",
        "# returns the memory of the bot"
      ],
      "metadata": {
        "id": "0rES2uIo6z8r",
        "colab": {
          "base_uri": "https://localhost:8080/"
        },
        "outputId": "c7113091-7e2f-4072-ba5e-1dfda7389aa4"
      },
      "execution_count": null,
      "outputs": [
        {
          "output_type": "execute_result",
          "data": {
            "text/plain": [
              "[parts {\n",
              "   text: \"In one paragraph, give me a recipe for cooking noodles.\"\n",
              " }\n",
              " role: \"user\",\n",
              " parts {\n",
              "   text: \"Bring a large pot of salted water to a boil. Add the noodles and cook according to package directions. Stir occasionally to prevent the noodles from sticking together. Once the noodles are al dente, drain them in a colander and rinse with cold water. Toss the noodles with a little oil to prevent them from sticking together.\"\n",
              " }\n",
              " role: \"model\",\n",
              " parts {\n",
              "   text: \"Okay, how about a more detailed explanation about how to scale a million dollar tech buisness\"\n",
              " }\n",
              " role: \"user\",\n",
              " parts {\n",
              "   text: \"**Scaling a Million-Dollar Tech Business**\\n\\n**1. Define your target market and value proposition.** Who are you solving a problem for? What makes your solution unique and valuable?\\n**2. Build a strong team.** Surround yourself with talented and passionate people who share your vision.\\n**3. Develop a scalable business model.** Make sure your business can grow without significant additional investment.\\n**4. Focus on customer acquisition and retention.** Attract new customers and keep them coming back for more.\\n**5. Invest in marketing and sales.** Get the word out about your business and generate leads.\\n**6. Build a strong brand.** Create a recognizable and respected brand that customers trust.\\n**7. Seek funding.** If necessary, raise capital to fuel your growth.\\n**8. Expand your product or service offerings.** Offer new products or services that complement your existing offerings.\\n**9. Enter new markets.** Expand your reach by entering new geographic markets or customer segments.\\n**10. Innovate constantly.** Stay ahead of the competition by constantly innovating and improving your products or services.\\n\\nScaling a tech business to a million dollars is a challenging but achievable goal. By following these steps, you can increase your chances of success.\"\n",
              " }\n",
              " role: \"model\"]"
            ]
          },
          "metadata": {},
          "execution_count": 9
        }
      ]
    },
    {
      "cell_type": "code",
      "source": [
        "# sending another prompt for the same conversation\n",
        "response = chat.send_message('What have I asked you so far')\n",
        "chat.history"
      ],
      "metadata": {
        "id": "DXnehF1z6z6D",
        "colab": {
          "base_uri": "https://localhost:8080/",
          "height": 572
        },
        "outputId": "30414038-4469-447c-ec7a-352d8b96feb3"
      },
      "execution_count": null,
      "outputs": [
        {
          "output_type": "execute_result",
          "data": {
            "text/plain": [
              "[parts {\n",
              "   text: \"In one paragraph, give me a recipe for cooking noodles.\"\n",
              " }\n",
              " role: \"user\",\n",
              " parts {\n",
              "   text: \"Bring a large pot of salted water to a boil. Add the noodles and cook according to package directions. Stir occasionally to prevent the noodles from sticking together. Once the noodles are al dente, drain them in a colander and rinse with cold water. Toss the noodles with a little oil to prevent them from sticking together.\"\n",
              " }\n",
              " role: \"model\",\n",
              " parts {\n",
              "   text: \"Okay, how about a more detailed explanation about how to scale a million dollar tech buisness\"\n",
              " }\n",
              " role: \"user\",\n",
              " parts {\n",
              "   text: \"**Scaling a Million-Dollar Tech Business**\\n\\n**1. Define your target market and value proposition.** Who are you solving a problem for? What makes your solution unique and valuable?\\n**2. Build a strong team.** Surround yourself with talented and passionate people who share your vision.\\n**3. Develop a scalable business model.** Make sure your business can grow without significant additional investment.\\n**4. Focus on customer acquisition and retention.** Attract new customers and keep them coming back for more.\\n**5. Invest in marketing and sales.** Get the word out about your business and generate leads.\\n**6. Build a strong brand.** Create a recognizable and respected brand that customers trust.\\n**7. Seek funding.** If necessary, raise capital to fuel your growth.\\n**8. Expand your product or service offerings.** Offer new products or services that complement your existing offerings.\\n**9. Enter new markets.** Expand your reach by entering new geographic markets or customer segments.\\n**10. Innovate constantly.** Stay ahead of the competition by constantly innovating and improving your products or services.\\n\\nScaling a tech business to a million dollars is a challenging but achievable goal. By following these steps, you can increase your chances of success.\"\n",
              " }\n",
              " role: \"model\",\n",
              " parts {\n",
              "   text: \"What have I asked you so far\"\n",
              " }\n",
              " role: \"user\",\n",
              " parts {\n",
              "   text: \"You have asked me the following questions so far:\\n\\n* Give me a recipe for cooking noodles.\\n* Give me a more detailed explanation about how to scale a million dollar tech business.\\n* What have I asked you so far\\n\\nI have answered all of your questions to the best of my ability. Is there anything else I can help you with today?\"\n",
              " }\n",
              " role: \"model\"]"
            ]
          },
          "metadata": {},
          "execution_count": 10
        }
      ]
    },
    {
      "cell_type": "code",
      "source": [
        "# displaying the last answer\n",
        "print(chat.history[-1].parts[0].text)"
      ],
      "metadata": {
        "id": "z4oBtJyv6z3S",
        "colab": {
          "base_uri": "https://localhost:8080/"
        },
        "outputId": "2accaddb-a061-47b1-901b-00b7865a7e6e"
      },
      "execution_count": null,
      "outputs": [
        {
          "output_type": "stream",
          "name": "stdout",
          "text": [
            "You have asked me the following questions so far:\n",
            "\n",
            "* Give me a recipe for cooking noodles.\n",
            "* Give me a more detailed explanation about how to scale a million dollar tech business.\n",
            "* What have I asked you so far\n",
            "\n",
            "I have answered all of your questions to the best of my ability. Is there anything else I can help you with today?\n"
          ]
        }
      ]
    }
  ]
}