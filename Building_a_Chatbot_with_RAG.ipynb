{
  "nbformat": 4,
  "nbformat_minor": 0,
  "metadata": {
    "colab": {
      "provenance": []
    },
    "kernelspec": {
      "name": "python3",
      "display_name": "Python 3"
    },
    "language_info": {
      "name": "python"
    }
  },
  "cells": [
    {
      "cell_type": "markdown",
      "source": [
        "# Building a Chatbot with RAG"
      ],
      "metadata": {
        "id": "qo2Kd5Sy9bLV"
      }
    },
    {
      "cell_type": "code",
      "execution_count": null,
      "metadata": {
        "id": "YmJ3L8b9oinL"
      },
      "outputs": [],
      "source": [
        "!pip install -qU \\\n",
        "    langchain==0.0.354 \\\n",
        "    openai==1.6.1 \\\n",
        "    datasets==2.10.1 \\\n",
        "    pinecone-client==3.0.0 \\\n",
        "    tiktoken==0.5.2"
      ]
    },
    {
      "cell_type": "markdown",
      "source": [
        "#Building a Chatbot (no RAG)\n",
        "We will be relying heavily on the LangChain library to bring together the different components needed for our chatbot. To begin, we'll create a simple chatbot without any retrieval augmentation. We do this by initializing a ChatOpenAI object. For this we do need an OpenAI API key."
      ],
      "metadata": {
        "id": "K5birRm59WIc"
      }
    },
    {
      "cell_type": "code",
      "source": [
        "! pip install -q --upgrade google-generativeai langchain-google-genai python-dotenv"
      ],
      "metadata": {
        "id": "OlN1kQIYFhgF"
      },
      "execution_count": null,
      "outputs": []
    },
    {
      "cell_type": "code",
      "source": [
        "!pip install -q langchain"
      ],
      "metadata": {
        "id": "TtS4voGGJKV0"
      },
      "execution_count": null,
      "outputs": []
    },
    {
      "cell_type": "code",
      "source": [
        "import pathlib  # For working with file paths\n",
        "import textwrap  # For wrapping text\n",
        "from IPython.display import display, Markdown  # For displaying output in Jupyter Notebook\n",
        "\n",
        "\n",
        "# Function to convert text to Markdown format\n",
        "def to_markdown(text):\n",
        "    # Replace bullet points with Markdown list items\n",
        "    text = text.replace('•', '  *')\n",
        "    # Indent the text with '>' and return it as Markdown\n",
        "    return Markdown(textwrap.indent(text, '> ', predicate=lambda _: True))\n"
      ],
      "metadata": {
        "id": "rgMnKkKnDoNm"
      },
      "execution_count": null,
      "outputs": []
    },
    {
      "cell_type": "code",
      "source": [
        "# importing the libraries.\n",
        "import google.generativeai as genai\n",
        "import os\n",
        "from dotenv import load_dotenv, find_dotenv\n",
        "import getpass\n",
        "\n",
        "os.environ[\"GOOGLE_API_KEY\"] = getpass.getpass(\"Paste your Google API key here and hit enter:\")   #user input\n",
        "\n",
        "\n",
        "# loading the API key from .env and authenticating to Gemini.\n",
        "load_dotenv(find_dotenv(), override=True)\n",
        "os.environ.get('GOOGLE_API_KEY')\n",
        "\n",
        "# configuring the API key.\n",
        "genai.configure(api_key=os.environ.get('GOOGLE_API_KEY'))"
      ],
      "metadata": {
        "colab": {
          "base_uri": "https://localhost:8080/"
        },
        "id": "2J1rRCOh8gyK",
        "outputId": "ca933847-ce42-4506-e48a-bc4654a7b0c8"
      },
      "execution_count": null,
      "outputs": [
        {
          "name": "stdout",
          "output_type": "stream",
          "text": [
            "Paste your Google API key here and hit enter:··········\n"
          ]
        }
      ]
    },
    {
      "cell_type": "code",
      "source": [
        "# generation_config = {\n",
        "#         \"temperature\": 0.0,\n",
        "#         # \"top_p\": 1,\n",
        "#         # \"top_k\": 1,\n",
        "#         \"max_output_tokens\": 2048,\n",
        "# }\n",
        "\n",
        "# model = genai.GenerativeModel(generation_config=generation_config, model_name='gemini-pro')\n",
        "prompt = 'give me guidelines on how to structure my timetable between school, work, personal development'\n",
        "\n",
        "model = genai.GenerativeModel('gemini-pro')\n",
        "response = model.generate_content(prompt)\n",
        "# print(response.text)"
      ],
      "metadata": {
        "id": "9H857-NBNJZw"
      },
      "execution_count": null,
      "outputs": []
    },
    {
      "cell_type": "markdown",
      "source": [
        "Gemini can generate multiple possible responses for a single prompt. These possible responses are called `candidates`, and you can review them to select the most suitable one as the response.\n",
        "\n",
        "View the response candidates with `GenerateContentResponse.candidates:`"
      ],
      "metadata": {
        "id": "2MZe-emUGHaK"
      }
    },
    {
      "cell_type": "code",
      "source": [
        "response.candidates"
      ],
      "metadata": {
        "colab": {
          "base_uri": "https://localhost:8080/"
        },
        "id": "IeIDjyi3Fmzc",
        "outputId": "5c9020ca-22d6-483d-faa1-86932fc7dca5"
      },
      "execution_count": null,
      "outputs": [
        {
          "output_type": "execute_result",
          "data": {
            "text/plain": [
              "[content {\n",
              "  parts {\n",
              "    text: \"**Prioritize Your Commitments:**\\n\\n1. **School:** Make school your primary focus. Identify essential classes and assignments and plan study sessions accordingly.\\n\\n2. **Work:** Calculate the hours you need to work to meet your financial obligations and goals.\\n\\n3. **Personal Development:** Include activities that enhance your skills, knowledge, and well-being. This could include exercise, hobbies, or learning new skills.\\n\\n**Create a Timetable:**\\n\\n1. **Flexibility:** Design a timetable that adapts to your daily and weekly fluctuations. Allow for unexpected events and breaks.\\n\\n2. **Color-Coding:** Use different colors to distinguish between school, work, and personal development activities.\\n\\n3. **Breaks:** Incorporate short breaks throughout the day to avoid burnout and maintain productivity.\\n\\n4. **Realism:** Be realistic about your time commitment to each activity. Avoid over-scheduling yourself.\\n\\n5. **Daily Schedule:** Plan out each day in specific time slots, including waking up, commuting, meals, and leisure time.\\n\\n**Balance Your Time:**\\n\\n1. **Early Morning:** Consider using the early morning hours for focused work or study before other commitments start.\\n\\n2. **Lunch Breaks:** Utilize lunch breaks for quick errands, exercise, or personal development activities.\\n\\n3. **Evening Schedule:** Balance evening hours between schoolwork, personal development, and relaxation.\\n\\n4. **Weekend Flexibility:** Plan flexible weekends with a mix of work, social activities, and personal pursuits.\\n\\n**Set Boundaries:**\\n\\n1. **Time Boundaries:** Establish specific time slots for each activity and stick to them as much as possible.\\n\\n2. **Digital Boundaries:** Limit screen time and minimize distractions during focused work or study periods.\\n\\n3. **Work-Life Balance:** Avoid becoming overwhelmed by work or studies. Ensure you have dedicated time for personal activities and relationships.\\n\\n**Evaluate and Adjust:**\\n\\n1. **Weekly Review:** Regularly review your timetable to assess whether it\\'s working for you.\\n\\n2. **Adjustments:** Make necessary adjustments based on your performance, progress, and workload changes.\\n\\n3. **Long-Term Goals:** Keep your long-term goals in mind when making changes to your timetable.\\n\\n4. **Feedback:** Seek feedback from friends, family, or mentors to help identify areas for improvement.\"\n",
              "  }\n",
              "  role: \"model\"\n",
              "}\n",
              "finish_reason: STOP\n",
              "index: 0\n",
              "safety_ratings {\n",
              "  category: HARM_CATEGORY_SEXUALLY_EXPLICIT\n",
              "  probability: NEGLIGIBLE\n",
              "}\n",
              "safety_ratings {\n",
              "  category: HARM_CATEGORY_HATE_SPEECH\n",
              "  probability: NEGLIGIBLE\n",
              "}\n",
              "safety_ratings {\n",
              "  category: HARM_CATEGORY_HARASSMENT\n",
              "  probability: NEGLIGIBLE\n",
              "}\n",
              "safety_ratings {\n",
              "  category: HARM_CATEGORY_DANGEROUS_CONTENT\n",
              "  probability: NEGLIGIBLE\n",
              "}\n",
              "]"
            ]
          },
          "metadata": {},
          "execution_count": 8
        }
      ]
    },
    {
      "cell_type": "code",
      "source": [
        "for chunk in response:\n",
        "  print(chunk.text)\n",
        "  print(\"_\"*80)"
      ],
      "metadata": {
        "id": "tnZijceVKzFa",
        "colab": {
          "base_uri": "https://localhost:8080/"
        },
        "outputId": "20cada88-68b6-4d01-8b4b-32587a9c47da"
      },
      "execution_count": null,
      "outputs": [
        {
          "output_type": "stream",
          "name": "stdout",
          "text": [
            "**Prioritize Your Commitments:**\n",
            "\n",
            "1. **School:** Make school your primary focus. Identify essential classes and assignments and plan study sessions accordingly.\n",
            "\n",
            "2. **Work:** Calculate the hours you need to work to meet your financial obligations and goals.\n",
            "\n",
            "3. **Personal Development:** Include activities that enhance your skills, knowledge, and well-being. This could include exercise, hobbies, or learning new skills.\n",
            "\n",
            "**Create a Timetable:**\n",
            "\n",
            "1. **Flexibility:** Design a timetable that adapts to your daily and weekly fluctuations. Allow for unexpected events and breaks.\n",
            "\n",
            "2. **Color-Coding:** Use different colors to distinguish between school, work, and personal development activities.\n",
            "\n",
            "3. **Breaks:** Incorporate short breaks throughout the day to avoid burnout and maintain productivity.\n",
            "\n",
            "4. **Realism:** Be realistic about your time commitment to each activity. Avoid over-scheduling yourself.\n",
            "\n",
            "5. **Daily Schedule:** Plan out each day in specific time slots, including waking up, commuting, meals, and leisure time.\n",
            "\n",
            "**Balance Your Time:**\n",
            "\n",
            "1. **Early Morning:** Consider using the early morning hours for focused work or study before other commitments start.\n",
            "\n",
            "2. **Lunch Breaks:** Utilize lunch breaks for quick errands, exercise, or personal development activities.\n",
            "\n",
            "3. **Evening Schedule:** Balance evening hours between schoolwork, personal development, and relaxation.\n",
            "\n",
            "4. **Weekend Flexibility:** Plan flexible weekends with a mix of work, social activities, and personal pursuits.\n",
            "\n",
            "**Set Boundaries:**\n",
            "\n",
            "1. **Time Boundaries:** Establish specific time slots for each activity and stick to them as much as possible.\n",
            "\n",
            "2. **Digital Boundaries:** Limit screen time and minimize distractions during focused work or study periods.\n",
            "\n",
            "3. **Work-Life Balance:** Avoid becoming overwhelmed by work or studies. Ensure you have dedicated time for personal activities and relationships.\n",
            "\n",
            "**Evaluate and Adjust:**\n",
            "\n",
            "1. **Weekly Review:** Regularly review your timetable to assess whether it's working for you.\n",
            "\n",
            "2. **Adjustments:** Make necessary adjustments based on your performance, progress, and workload changes.\n",
            "\n",
            "3. **Long-Term Goals:** Keep your long-term goals in mind when making changes to your timetable.\n",
            "\n",
            "4. **Feedback:** Seek feedback from friends, family, or mentors to help identify areas for improvement.\n",
            "________________________________________________________________________________\n"
          ]
        }
      ]
    },
    {
      "cell_type": "code",
      "source": [
        "model = genai.GenerativeModel('gemini-pro')\n",
        "chat = model.start_chat(history=[])\n",
        "chat"
      ],
      "metadata": {
        "id": "Fy1yvtWdKzWu",
        "colab": {
          "base_uri": "https://localhost:8080/"
        },
        "outputId": "f34e21a7-ecf0-4199-c2e8-6efb06941ae2"
      },
      "execution_count": null,
      "outputs": [
        {
          "output_type": "execute_result",
          "data": {
            "text/plain": [
              "<google.generativeai.generative_models.ChatSession at 0x7ec4e8a84460>"
            ]
          },
          "metadata": {},
          "execution_count": 10
        }
      ]
    },
    {
      "cell_type": "code",
      "source": [
        "response = chat.send_message(\"In one sentence, explain how a computer works to a young child.\")\n",
        "to_markdown(response.text)"
      ],
      "metadata": {
        "colab": {
          "base_uri": "https://localhost:8080/",
          "height": 62
        },
        "id": "-mtmAZ5rPi_U",
        "outputId": "e3614218-56ba-43bd-e9a5-e538b40f1afe"
      },
      "execution_count": null,
      "outputs": [
        {
          "output_type": "execute_result",
          "data": {
            "text/plain": [
              "<IPython.core.display.Markdown object>"
            ],
            "text/markdown": "> A computer is like a magical helper that can store and show you things, play games, and help you learn."
          },
          "metadata": {},
          "execution_count": 11
        }
      ]
    },
    {
      "cell_type": "code",
      "source": [
        "chat.history"
      ],
      "metadata": {
        "colab": {
          "base_uri": "https://localhost:8080/"
        },
        "id": "2Ypl91cJPiwO",
        "outputId": "12301cfc-626e-484b-ebd7-c29a581e4f7a"
      },
      "execution_count": null,
      "outputs": [
        {
          "output_type": "execute_result",
          "data": {
            "text/plain": [
              "[parts {\n",
              "   text: \"In one sentence, explain how a computer works to a young child.\"\n",
              " }\n",
              " role: \"user\",\n",
              " parts {\n",
              "   text: \"A computer is like a magical helper that can store and show you things, play games, and help you learn.\"\n",
              " }\n",
              " role: \"model\"]"
            ]
          },
          "metadata": {},
          "execution_count": 12
        }
      ]
    },
    {
      "cell_type": "code",
      "source": [
        "response = chat.send_message(\"Okay, how about a more detailed explanation to a high schooler?\", stream=True)\n",
        "\n",
        "for chunk in response:\n",
        "  print(chunk.text)for message in chat.history:\n",
        "  display(to_markdown(f'**{message.role}**: {message.parts[0].text}'))\n",
        "  print(\"_\"*80)"
      ],
      "metadata": {
        "colab": {
          "base_uri": "https://localhost:8080/",
          "height": 211
        },
        "id": "OeYuxyZUPh7f",
        "outputId": "cd54e46a-4686-45bc-e83c-bb17822f0e92"
      },
      "execution_count": null,
      "outputs": [
        {
          "output_type": "stream",
          "name": "stdout",
          "text": [
            "At its core, a computer is an electronic device that can be programmed to carry\n",
            "________________________________________________________________________________\n",
            " out a set of instructions. It consists of hardware, which are the physical components, and software, which are the instructions that tell the hardware what to do.\n",
            "________________________________________________________________________________\n",
            " When you give a computer a command, the software translates it into a series of binary digits (0s and 1s) that the hardware can understand. The hardware then carries out the instructions, processes the data, and displays the results on the screen or through other output devices. Computers can perform complex calculations, store\n",
            "________________________________________________________________________________\n",
            " and retrieve vast amounts of information, and communicate with other computers over networks.\n",
            "\n",
            "In summary, a computer is a programmable electronic device that can process information, store data, and communicate with other computers.\n",
            "________________________________________________________________________________\n"
          ]
        }
      ]
    },
    {
      "cell_type": "markdown",
      "source": [
        "\"streaming\" means that the response is being delivered in chunks or segments rather than as a single block of text."
      ],
      "metadata": {
        "id": "vWjjATmbVlg_"
      }
    },
    {
      "cell_type": "code",
      "source": [
        "for message in chat.history:\n",
        "  display(to_markdown(f'**{message.role}**: {message.parts[0].text}'))"
      ],
      "metadata": {
        "colab": {
          "base_uri": "https://localhost:8080/",
          "height": 249
        },
        "id": "BggPnchWVm73",
        "outputId": "8e87bbdd-71a4-45d8-88f1-e1e621ee0d45"
      },
      "execution_count": null,
      "outputs": [
        {
          "output_type": "display_data",
          "data": {
            "text/plain": [
              "<IPython.core.display.Markdown object>"
            ],
            "text/markdown": "> **user**: In one sentence, explain how a computer works to a young child."
          },
          "metadata": {}
        },
        {
          "output_type": "display_data",
          "data": {
            "text/plain": [
              "<IPython.core.display.Markdown object>"
            ],
            "text/markdown": "> **model**: A computer is like a magical helper that can store and show you things, play games, and help you learn."
          },
          "metadata": {}
        },
        {
          "output_type": "display_data",
          "data": {
            "text/plain": [
              "<IPython.core.display.Markdown object>"
            ],
            "text/markdown": "> **user**: Okay, how about a more detailed explanation to a high schooler?"
          },
          "metadata": {}
        },
        {
          "output_type": "display_data",
          "data": {
            "text/plain": [
              "<IPython.core.display.Markdown object>"
            ],
            "text/markdown": "> **model**: At its core, a computer is an electronic device that can be programmed to carry out a set of instructions. It consists of hardware, which are the physical components, and software, which are the instructions that tell the hardware what to do. When you give a computer a command, the software translates it into a series of binary digits (0s and 1s) that the hardware can understand. The hardware then carries out the instructions, processes the data, and displays the results on the screen or through other output devices. Computers can perform complex calculations, store and retrieve vast amounts of information, and communicate with other computers over networks.\n> \n> In summary, a computer is a programmable electronic device that can process information, store data, and communicate with other computers."
          },
          "metadata": {}
        }
      ]
    },
    {
      "cell_type": "code",
      "source": [
        "result = genai.embed_content(\n",
        "    model=\"models/embedding-001\",\n",
        "    content=\"What is the meaning of life?\",\n",
        "    task_type=\"retrieval_document\",\n",
        "    title=\"Embedding of single string\")\n",
        "\n",
        "# 1 input > 1 vector output\n",
        "print(str(result['embedding'])[:50], '... TRIMMED]')"
      ],
      "metadata": {
        "colab": {
          "base_uri": "https://localhost:8080/",
          "height": 34
        },
        "id": "PiZ4BbSrVn-x",
        "outputId": "880063f4-92ea-4b65-f6cd-52c4008c2879"
      },
      "execution_count": null,
      "outputs": [
        {
          "output_type": "stream",
          "name": "stdout",
          "text": [
            "[-0.003216741, -0.013358698, -0.017649598, -0.0091 ... TRIMMED]\n"
          ]
        }
      ]
    },
    {
      "cell_type": "code",
      "source": [
        "result = genai.embed_content(\n",
        "    model=\"models/embedding-001\",\n",
        "    content=[\n",
        "      'What is the meaning of life?',\n",
        "      'How much wood would a woodchuck chuck?',\n",
        "      'How does the brain work?'],\n",
        "    task_type=\"retrieval_document\",\n",
        "    title=\"Embedding of list of strings\")\n",
        "\n",
        "# A list of inputs > A list of vectors output\n",
        "for v in result['embedding']:\n",
        "  print(str(v)[:50], '... TRIMMED ...')"
      ],
      "metadata": {
        "colab": {
          "base_uri": "https://localhost:8080/",
          "height": 69
        },
        "id": "M6TdlF2mVn8K",
        "outputId": "1efaf723-2f68-4d80-cb5e-55fd434d2151"
      },
      "execution_count": null,
      "outputs": [
        {
          "output_type": "stream",
          "name": "stdout",
          "text": [
            "[0.0040260437, 0.004124458, -0.014209415, -0.00183 ... TRIMMED ...\n",
            "[-0.004049845, -0.0075574904, -0.0073463684, -0.03 ... TRIMMED ...\n",
            "[0.025310587, -0.0080734305, -0.029902633, 0.01160 ... TRIMMED ...\n"
          ]
        }
      ]
    },
    {
      "cell_type": "code",
      "source": [
        "response.candidates[0].content"
      ],
      "metadata": {
        "colab": {
          "base_uri": "https://localhost:8080/"
        },
        "id": "Ctx3h6HyVn5h",
        "outputId": "9f29fcf2-784c-4647-e456-82bed751868f"
      },
      "execution_count": null,
      "outputs": [
        {
          "output_type": "execute_result",
          "data": {
            "text/plain": [
              "parts {\n",
              "  text: \"At its core, a computer is an electronic device that can be programmed to carry out a set of instructions. It consists of hardware, which are the physical components, and software, which are the instructions that tell the hardware what to do. When you give a computer a command, the software translates it into a series of binary digits (0s and 1s) that the hardware can understand. The hardware then carries out the instructions, processes the data, and displays the results on the screen or through other output devices. Computers can perform complex calculations, store and retrieve vast amounts of information, and communicate with other computers over networks.\\n\\nIn summary, a computer is a programmable electronic device that can process information, store data, and communicate with other computers.\"\n",
              "}\n",
              "role: \"model\""
            ]
          },
          "metadata": {},
          "execution_count": 17
        }
      ]
    },
    {
      "cell_type": "code",
      "source": [
        "result = genai.embed_content(\n",
        "    model = 'models/embedding-001',\n",
        "    content = response.candidates[0].content)\n",
        "\n",
        "# 1 input > 1 vector output\n",
        "print(str(result['embedding'])[:50], '... TRIMMED ...')"
      ],
      "metadata": {
        "colab": {
          "base_uri": "https://localhost:8080/",
          "height": 34
        },
        "id": "orrgb10PVn2p",
        "outputId": "ef7c915f-33fd-40c9-8cf0-5531533c8ef9"
      },
      "execution_count": null,
      "outputs": [
        {
          "output_type": "stream",
          "name": "stdout",
          "text": [
            "[-0.012603716, -0.046497587, 0.0021071662, 0.02191 ... TRIMMED ...\n"
          ]
        }
      ]
    },
    {
      "cell_type": "code",
      "source": [
        "chat.history"
      ],
      "metadata": {
        "colab": {
          "base_uri": "https://localhost:8080/"
        },
        "id": "v3GjMwjNVn0G",
        "outputId": "814ddb48-825a-4d5d-e643-7217e13bc0da"
      },
      "execution_count": null,
      "outputs": [
        {
          "output_type": "execute_result",
          "data": {
            "text/plain": [
              "[parts {\n",
              "   text: \"In one sentence, explain how a computer works to a young child.\"\n",
              " }\n",
              " role: \"user\",\n",
              " parts {\n",
              "   text: \"A computer is like a magical helper that can store and show you things, play games, and help you learn.\"\n",
              " }\n",
              " role: \"model\",\n",
              " parts {\n",
              "   text: \"Okay, how about a more detailed explanation to a high schooler?\"\n",
              " }\n",
              " role: \"user\",\n",
              " parts {\n",
              "   text: \"At its core, a computer is an electronic device that can be programmed to carry out a set of instructions. It consists of hardware, which are the physical components, and software, which are the instructions that tell the hardware what to do. When you give a computer a command, the software translates it into a series of binary digits (0s and 1s) that the hardware can understand. The hardware then carries out the instructions, processes the data, and displays the results on the screen or through other output devices. Computers can perform complex calculations, store and retrieve vast amounts of information, and communicate with other computers over networks.\\n\\nIn summary, a computer is a programmable electronic device that can process information, store data, and communicate with other computers.\"\n",
              " }\n",
              " role: \"model\"]"
            ]
          },
          "metadata": {},
          "execution_count": 19
        }
      ]
    },
    {
      "cell_type": "markdown",
      "source": [
        "### Multi-turn conversations\n",
        "\n",
        "While the `genai.ChatSession` class shown earlier can handle many use cases, it does make some assumptions. If your use case doesn't fit into this chat implementation it's good to remember that `genai.ChatSession` is just a wrapper around <a href=\"https://ai.google.dev/api/python/google/generativeai/GenerativeModel#generate_content\"><code>GenerativeModel.generate_content</code></a>. In addition to single requests, it can handle multi-turn conversations.\n",
        "\n",
        "The individual messages are `glm.Content` objects or compatible dictionaries, as seen in previous sections. As a dictionary, the message requires `role` and `parts` keys. The `role` in a conversation can either be the `user`, which provides the prompts, or `model`, which provides the responses.\n",
        "\n",
        "Pass a list of `glm.Content` objects and it will be treated as multi-turn chat:"
      ],
      "metadata": {
        "id": "UUOH6o5rh7_V"
      }
    },
    {
      "cell_type": "code",
      "source": [
        "model = genai.GenerativeModel('gemini-pro')\n",
        "\n",
        "messages = [\n",
        "    {'role':'model',\n",
        "    # 'role':'you are a helpful, patient and intelligent customer support agent', (not supportd for gemini-pro)\n",
        "    'role':'user',\n",
        "    'parts': [\"Briefly explain how to buy your $400 product.\"]}\n",
        "]\n",
        "response = model.generate_content(messages)\n",
        "\n",
        "to_markdown(response.text)"
      ],
      "metadata": {
        "colab": {
          "base_uri": "https://localhost:8080/",
          "height": 345
        },
        "id": "4YP1lG8uVnxF",
        "outputId": "740f59bd-b34b-4eba-c77c-e551b2a96172"
      },
      "execution_count": null,
      "outputs": [
        {
          "output_type": "execute_result",
          "data": {
            "text/plain": [
              "<IPython.core.display.Markdown object>"
            ],
            "text/markdown": "> 1. Go to our official website: [Website URL]\n> \n> \n> 2. Browse our product catalog and select the $400 product you want to purchase.\n> \n> \n> 3. Click on the \"Add to Cart\" button to add the product to your shopping cart.\n> \n> \n> 4. Click on the \"Checkout\" button to proceed to the checkout page.\n> \n> \n> 5. Enter your shipping and billing information.\n> \n> \n> 6. Select your preferred payment method and enter your payment information.\n> \n> \n> 7. Review your order summary and click on the \"Confirm Order\" button to complete your purchase.\n> \n> \n> 8. You will receive an email with your order confirmation and tracking information.\n> \n> \n> 9. Your order will be processed and shipped within [Shipping Timeframe] business days.\n> \n> \n> 10. Once your order is delivered, inspect the product and contact our customer support team if you have any questions or concerns."
          },
          "metadata": {},
          "execution_count": 27
        }
      ]
    },
    {
      "cell_type": "markdown",
      "source": [
        "To continue the conversation, add the response and another message.\n",
        "\n",
        "Note: For multi-turn conversations, you need to send the whole conversation history with each request. The API is stateless."
      ],
      "metadata": {
        "id": "7MsejBy1oPly"
      }
    },
    {
      "cell_type": "code",
      "source": [
        "messages.append({'role':'model',\n",
        "                 'parts':[response.text]})\n",
        "\n",
        "messages.append({'role':'user',\n",
        "                 'parts':[\"Okay, how about a more detailed explanation to a high school student?\"]})\n",
        "\n",
        "response = model.generate_content(messages)\n",
        "\n",
        "to_markdown(response.text)"
      ],
      "metadata": {
        "colab": {
          "base_uri": "https://localhost:8080/",
          "height": 734
        },
        "id": "VqGo32m_Vnt_",
        "outputId": "77bb4dff-3a84-49dc-d730-7437c000daf6"
      },
      "execution_count": null,
      "outputs": [
        {
          "output_type": "execute_result",
          "data": {
            "text/plain": [
              "<IPython.core.display.Markdown object>"
            ],
            "text/markdown": "> 1. **Go to the Website:**\n> \n>    - Open a web browser on your computer or mobile device and type in the URL of our official website: [Website URL].\n>    - Make sure you are on the official website to ensure a secure and legitimate purchase.\n> \n> \n> 2. **Find the Product:**\n> \n>    - Browse through the product catalog on the website. You can use the search bar or navigate through the different categories to find the specific $400 product you want to buy.\n> \n> \n> 3. **Add to Cart:**\n> \n>    - Once you find the product, click on the \"Add to Cart\" button. This will add the product to your shopping cart.\n>    - You can continue browsing and adding more products to your cart if you wish.\n> \n> \n> 4. **Proceed to Checkout:**\n> \n>    - When you are ready to purchase the items in your cart, click on the \"Checkout\" button. This will take you to the checkout page.\n> \n> \n> 5. **Enter Shipping and Billing Information:**\n> \n>    - On the checkout page, enter your shipping address and billing information. Make sure the information is accurate to ensure proper delivery and billing.\n> \n> \n> 6. **Choose Payment Method:**\n> \n>    - Select your preferred payment method from the available options. We typically offer various payment methods such as credit/debit cards, PayPal, or other secure payment gateways.\n> \n> \n> 7. **Review and Confirm Order:**\n> \n>    - Review your order summary carefully. Ensure that the products, quantities, shipping address, and payment information are all correct.\n>    - Once you are satisfied with your order, click on the \"Confirm Order\" or \"Place Order\" button to complete your purchase.\n> \n> \n> 8. **Order Confirmation:**\n> \n>    - You will receive an email with your order confirmation and a unique order number. This email will also contain tracking information once your order is shipped.\n> \n> \n> 9. **Processing and Shipping:**\n> \n>    - Your order will be processed and shipped within the specified shipping timeframe, typically within a few business days. You can track the status of your order using the tracking information provided in the confirmation email.\n> \n> \n> 10. **Delivery and Inspection:**\n> \n>     - Once your order is delivered, inspect the product to ensure that it is in good condition and matches your expectations.\n>     - If you have any questions or concerns about the product, contact our customer support team for assistance."
          },
          "metadata": {},
          "execution_count": 28
        }
      ]
    },
    {
      "cell_type": "code",
      "source": [
        "model = genai.GenerativeModel('gemini-pro')\n",
        "response = model.generate_content(\n",
        "    'how do i make my first million dollars from forex and data science?',\n",
        "    generation_config=genai.types.GenerationConfig(\n",
        "        # Only one candidate for now.\n",
        "        candidate_count=1,\n",
        "        # stop_sequences=['x'],\n",
        "        # max_output_tokens=20,\n",
        "        temperature=0.0)\n",
        ")"
      ],
      "metadata": {
        "id": "VtMKECwIVnoL"
      },
      "execution_count": null,
      "outputs": []
    },
    {
      "cell_type": "code",
      "source": [
        "text = response.text\n",
        "\n",
        "# if response.candidates[0].finish_reason.name == \"MAX_TOKENS\":\n",
        "#     text += '...'\n",
        "\n",
        "to_markdown(text)"
      ],
      "metadata": {
        "colab": {
          "base_uri": "https://localhost:8080/",
          "height": 784
        },
        "id": "YjwshIstwgQ2",
        "outputId": "9282beba-4ca1-4eab-8e06-986db5741f35"
      },
      "execution_count": null,
      "outputs": [
        {
          "output_type": "execute_result",
          "data": {
            "text/plain": [
              "<IPython.core.display.Markdown object>"
            ],
            "text/markdown": "> 1. **Learn the Basics of Forex Trading:**\n>    - Understand the concepts of currency pairs, pips, leverage, and risk management.\n>    - Familiarize yourself with different trading strategies and technical indicators.\n>    - Practice trading on a demo account before using real money.\n> \n> 2. **Master Data Science Techniques:**\n>    - Learn programming languages like Python and R, which are widely used in data science.\n>    - Study statistical methods, machine learning algorithms, and data visualization techniques.\n>    - Gain experience working with large datasets and building predictive models.\n> \n> 3. **Combine Forex Trading and Data Science:**\n>    - Use data science techniques to analyze historical forex data and identify trading opportunities.\n>    - Develop automated trading strategies based on machine learning algorithms.\n>    - Backtest your strategies on historical data to assess their performance.\n> \n> 4. **Choose a Reliable Forex Broker:**\n>    - Select a regulated and reputable forex broker that offers competitive trading conditions.\n>    - Consider factors such as spreads, commissions, leverage, and customer support.\n> \n> 5. **Start with a Small Account:**\n>    - Begin trading with a small amount of money to minimize your risk.\n>    - Gradually increase your trading size as you gain experience and confidence.\n> \n> 6. **Follow a Consistent Trading Plan:**\n>    - Create a trading plan that outlines your trading strategy, risk management rules, and entry and exit criteria.\n>    - Stick to your plan and avoid making impulsive trades.\n> \n> 7. **Manage Your Risk:**\n>    - Use stop-loss orders to limit your potential losses on each trade.\n>    - Diversify your portfolio by trading multiple currency pairs.\n>    - Avoid overtrading and maintain a healthy risk-to-reward ratio.\n> \n> 8. **Stay Updated with Market News and Analysis:**\n>    - Follow economic news and events that can impact currency prices.\n>    - Read market analysis reports and commentaries from reputable sources.\n>    - Stay informed about geopolitical developments and central bank policies.\n> \n> 9. **Be Patient and Persistent:**\n>    - Forex trading is a long-term game that requires patience and persistence.\n>    - Don't expect to make millions overnight.\n>    - Focus on learning, improving your skills, and managing your risk.\n> \n> 10. **Seek Professional Guidance:**\n>     - Consider working with a mentor or coach who has experience in forex trading and data science.\n>     - Attend workshops, seminars, and online courses to enhance your knowledge and skills."
          },
          "metadata": {},
          "execution_count": 31
        }
      ]
    },
    {
      "cell_type": "code",
      "source": [
        "  model = genai.GenerativeModel('gemini-pro')\n",
        "  chat = model.start_chat(history=[])\n",
        "\n",
        "  response = chat.send_message(\n",
        "      \"you\\'re a helpful, patient amd intelligent customer support bot\")\n",
        "  print(response.text)\n",
        "\n",
        "  response = chat.send_message(\n",
        "      \"how do i make returns and complaints for the product i ordered?\")\n",
        "  print(response.text)"
      ],
      "metadata": {
        "colab": {
          "base_uri": "https://localhost:8080/",
          "height": 1000
        },
        "id": "M940jdVAxyy9",
        "outputId": "a76b2599-9dee-4957-d9c3-8bc1221c4002"
      },
      "execution_count": null,
      "outputs": [
        {
          "output_type": "stream",
          "name": "stdout",
          "text": [
            "As a helpful, patient, and intelligent customer support bot, I am designed to assist you with any inquiries or issues you may have. Here are some of my key characteristics:\n",
            "\n",
            "**Helpful:**\n",
            "\n",
            "* I am programmed with a vast knowledge base that covers a wide range of topics and products.\n",
            "* I can understand and respond to your questions and requests in a clear and informative manner.\n",
            "* I am constantly learning and updating my knowledge to provide you with the most accurate and up-to-date information.\n",
            "\n",
            "**Patient:**\n",
            "\n",
            "* I understand that sometimes customers may have complex issues or inquiries that require a detailed explanation.\n",
            "* I am always willing to take the time to thoroughly address your concerns and provide you with a satisfactory resolution.\n",
            "* I am patient and understanding, even if you are frustrated or upset.\n",
            "\n",
            "**Intelligent:**\n",
            "\n",
            "* I am equipped with advanced artificial intelligence (AI) capabilities that allow me to analyze and interpret your queries quickly and accurately.\n",
            "* I can understand the context of your questions and provide relevant and personalized responses.\n",
            "* I am able to learn from your interactions with me and improve my responses over time.\n",
            "\n",
            "In addition to these qualities, I am also:\n",
            "\n",
            "**Available 24/7:** I am always available to assist you, regardless of the time or day.\n",
            "\n",
            "**Multilingual:** I can communicate in multiple languages to ensure that I can help customers from diverse backgrounds.\n",
            "\n",
            "**Secure:** I adhere to strict security protocols to protect your personal information and data.\n",
            "\n",
            "My goal is to provide you with the best possible customer support experience. If you have any questions or need assistance, please feel free to reach out to me. I am here to help.\n",
            "To make returns and complaints for a product you ordered, you can follow these steps:\n",
            "\n",
            "1. **Check the Return Policy:**\n",
            "\n",
            "* Familiarize yourself with the store's or company's return policy. This information is usually available on their website, in the product description, or on the receipt.\n",
            "* Make sure you meet the eligibility criteria for returns, such as the timeframe for returns and the condition of the product.\n",
            "\n",
            "2. **Contact Customer Support:**\n",
            "\n",
            "* Reach out to the store's or company's customer support department through their designated channels, such as email, phone, or live chat.\n",
            "* Provide them with your order number, product details, and a brief description of the issue or reason for return/complaint.\n",
            "\n",
            "3. **Document the Issue:**\n",
            "\n",
            "* Take clear photos or videos of the product, highlighting the defect or issue.\n",
            "* Keep all relevant documentation, such as the receipt, order confirmation email, and any correspondence with customer support.\n",
            "\n",
            "4. **Prepare the Product for Return:**\n",
            "\n",
            "* Pack the product securely in its original packaging, or in a similar suitable packaging.\n",
            "* Include all accessories, manuals, and any other items that came with the product.\n",
            "* Attach the return label provided by the store or company, if applicable.\n",
            "\n",
            "5. **Ship the Product:**\n",
            "\n",
            "* Follow the instructions provided by customer support regarding the shipping method and address.\n",
            "* Keep the tracking information for the shipment.\n",
            "\n",
            "6. **Follow Up:**\n",
            "\n",
            "* Once you have shipped the product, follow up with customer support to confirm that they have received it.\n",
            "* Inquire about the status of your return or complaint and the expected timeframe for resolution.\n",
            "\n",
            "7. **Keep Records:**\n",
            "\n",
            "* Keep all communication and documentation related to the return or complaint, including emails, phone call records, and shipping information.\n",
            "* This will be helpful in case there are any discrepancies or issues during the process.\n",
            "\n",
            "Remember to be polite and respectful when communicating with customer support. Providing clear and accurate information will help expedite the return or complaint process.\n"
          ]
        }
      ]
    }
  ]
}